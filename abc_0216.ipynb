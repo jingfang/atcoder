{
 "cells": [
  {
   "cell_type": "code",
   "execution_count": 23,
   "metadata": {},
   "outputs": [
    {
     "name": "stdout",
     "output_type": "stream",
     "text": [
      "3 4\n",
      "2 1 3\n",
      "3 1 2 3 \n",
      "2 3 2\n",
      "1\n"
     ]
    }
   ],
   "source": [
    "import numpy as np\n",
    "N, M =map(int,input().split())\n",
    "search = np.zeros(M+1)\n",
    "for i in range(N):\n",
    "    K = list(map(int,input().split()))\n",
    "    for j in range(1,K[0]+1):\n",
    "        search[K[j]]+=1\n",
    "place = np.where(search==N)\n",
    "print(len(place[0]))"
   ]
  },
  {
   "cell_type": "markdown",
   "metadata": {},
   "source": [
    "#### import numpy as np\n",
    "N, M =map(int,input().split())\n",
    "search = np.zeros(M)\n",
    "print(search)"
   ]
  },
  {
   "cell_type": "code",
   "execution_count": 14,
   "metadata": {},
   "outputs": [
    {
     "name": "stdout",
     "output_type": "stream",
     "text": [
      "5 5\n",
      "4 2 3 4 5\n",
      "4 1 3 4 5\n",
      "4 1 2 4 5\n",
      "4 1 2 3 4\n",
      "4 1 2 3 5\n",
      "[0. 4. 4. 4. 4. 4.]\n",
      "(array([], dtype=int64),)\n",
      "1\n"
     ]
    }
   ],
   "source": [
    "import numpy as np\n",
    "N, M =map(int,input().split())\n",
    "search = np.zeros(M+1)\n",
    "for i in range(N):\n",
    "    K = list(map(int,input().split()))\n",
    "    for j in range(1,K[0]+1):\n",
    "        search[K[j]]+=1\n",
    "place = np.where(search==N)\n",
    "print(search)\n",
    "print(place)\n",
    "print(len(place))"
   ]
  },
  {
   "cell_type": "code",
   "execution_count": 21,
   "metadata": {},
   "outputs": [
    {
     "name": "stdout",
     "output_type": "stream",
     "text": [
      "[0. 4. 4. 4. 4. 4.]\n",
      "0\n"
     ]
    }
   ],
   "source": [
    "search = np.zeros(6)\n",
    "search += 4\n",
    "search[0]-=4\n",
    "print(search)\n",
    "place = np.where(search==N)\n",
    "print(len(place[0]))"
   ]
  },
  {
   "cell_type": "code",
   "execution_count": 25,
   "metadata": {},
   "outputs": [
    {
     "name": "stdout",
     "output_type": "stream",
     "text": [
      "20 4\n",
      "3 7 8 4\n",
      "[4, 7, 6, 5]\n"
     ]
    }
   ],
   "source": [
    "N, M = map(int,input().split())\n",
    "listA = list(map(int,input().split()))\n",
    "needM = [2,5,5,4,5,6,3,7,6]\n",
    "listM = [needM[i-1] for i in listA]\n",
    "print(listM)"
   ]
  },
  {
   "cell_type": "code",
   "execution_count": 31,
   "metadata": {},
   "outputs": [
    {
     "name": "stdout",
     "output_type": "stream",
     "text": [
      "3 7 8 4\n",
      "[5, 3, 7, 4]\n"
     ]
    }
   ],
   "source": [
    "listA = list(map(int,input().split()))\n",
    "needM = [2,5,5,4,5,6,3,7,6]\n",
    "listM = [needM[i-1] for i in listA]\n",
    "print(listM)"
   ]
  },
  {
   "cell_type": "code",
   "execution_count": 37,
   "metadata": {},
   "outputs": [
    {
     "name": "stdout",
     "output_type": "stream",
     "text": [
      "[3, 4, 5, 7]\n"
     ]
    }
   ],
   "source": [
    "import math\n",
    "N,M = 20,4\n",
    "# N, M = map(int,input().split())\n",
    "# listA = list(map(int,input().split()))\n",
    "# needM = [2,5,5,4,5,6,3,7,6]\n",
    "# listM = [needM[i-1] for i in listA]\n",
    "unique_list = sorted(list(set(listM)))\n",
    "print(unique_list)"
   ]
  },
  {
   "cell_type": "code",
   "execution_count": 63,
   "metadata": {},
   "outputs": [
    {
     "name": "stdout",
     "output_type": "stream",
     "text": [
      "[3, 4, 5, 7]\n"
     ]
    }
   ],
   "source": [
    "import math\n",
    "N,M = 20,4\n",
    "unique_list = sorted(list(set(listM)))\n",
    "print(unique_list)\n",
    "# ax+by+cz+...=A coeff=[a,b,c,...] ans=A\n",
    "# if true ax+by+cz+...=A has integer answers\n",
    "def HasAnswer(coefficients,ans):\n",
    "    if len(coefficients) == 1:\n",
    "        return coefficients[0] % ans == 0\n",
    "    else:\n",
    "        residue = ans % gcd_all(coefficients)\n",
    "        return residue == 0"
   ]
  },
  {
   "cell_type": "code",
   "execution_count": 55,
   "metadata": {},
   "outputs": [],
   "source": [
    "import math\n",
    "numberlist = [3,6]\n",
    "def gcd_all(numberlist):\n",
    "    currentgcd = numberlist[0]\n",
    "    for i in numberlist[1:]:\n",
    "        #print(i)\n",
    "        currentgcd = math.gcd(currentgcd,i)\n",
    "    return currentgcd"
   ]
  },
  {
   "cell_type": "code",
   "execution_count": 43,
   "metadata": {},
   "outputs": [
    {
     "data": {
      "text/plain": [
       "2"
      ]
     },
     "execution_count": 43,
     "metadata": {},
     "output_type": "execute_result"
    }
   ],
   "source": [
    "for i in range(len(unique_list)):\n",
    "    HasAnswer(unique_list[:i+1])"
   ]
  },
  {
   "cell_type": "code",
   "execution_count": 52,
   "metadata": {},
   "outputs": [
    {
     "data": {
      "text/plain": [
       "1"
      ]
     },
     "execution_count": 52,
     "metadata": {},
     "output_type": "execute_result"
    }
   ],
   "source": [
    "gcd_all([3,6,5])"
   ]
  },
  {
   "cell_type": "code",
   "execution_count": 65,
   "metadata": {},
   "outputs": [
    {
     "data": {
      "text/plain": [
       "True"
      ]
     },
     "execution_count": 65,
     "metadata": {},
     "output_type": "execute_result"
    }
   ],
   "source": [
    "HasAnswer([3,5],4)"
   ]
  },
  {
   "cell_type": "code",
   "execution_count": null,
   "metadata": {},
   "outputs": [],
   "source": []
  }
 ],
 "metadata": {
  "kernelspec": {
   "display_name": "Python 3",
   "language": "python",
   "name": "python3"
  },
  "language_info": {
   "codemirror_mode": {
    "name": "ipython",
    "version": 3
   },
   "file_extension": ".py",
   "mimetype": "text/x-python",
   "name": "python",
   "nbconvert_exporter": "python",
   "pygments_lexer": "ipython3",
   "version": "3.6.8"
  }
 },
 "nbformat": 4,
 "nbformat_minor": 2
}
