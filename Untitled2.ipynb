{
 "cells": [
  {
   "cell_type": "code",
   "execution_count": null,
   "metadata": {},
   "outputs": [
    {
     "name": "stdout",
     "output_type": "stream",
     "text": [
      "5\n",
      "4\n",
      "1 2 3 4\n",
      "2 3 4 5\n",
      "3 4 1 2\n",
      "4 5 2 3\n"
     ]
    }
   ],
   "source": [
    "K = int(input())\n",
    " \n",
    "if K == 1:\n",
    "    print(1)\n",
    "    print(1)\n",
    "    exit()\n",
    " \n",
    "N = 2 * ((K+3)//4)\n",
    "ans = [[0]*N for i in range(N)]\n",
    " \n",
    "for i in range(N):\n",
    "    for j in range(N):\n",
    "        ans[i][j] = (i+j)%N + 1\n",
    "        if i%2 and ans[i][j] + N <= K:\n",
    "            ans[i][j] += N\n",
    " \n",
    "print(N)\n",
    "for row in ans:\n",
    "    print(*row)\n",
    "K = int(input())\n",
    "\n",
    "if K == 1:\n",
    "    print(1)\n",
    "    print(1)\n",
    "    exit()\n",
    "\n",
    "N = 2 * ((K+3)//4)\n",
    "ans = [[0]*N for i in range(N)]\n",
    "\n",
    "for i in range(N):\n",
    "    for j in range(N):\n",
    "        ans[i][j] = (i+j)%N + 1\n",
    "        if i%2 and ans[i][j] + N <= K:\n",
    "            ans[i][j] += N\n",
    "\n",
    "print(N)\n",
    "for row in ans:\n",
    "    print(*row)\n"
   ]
  },
  {
   "cell_type": "code",
   "execution_count": 7,
   "metadata": {},
   "outputs": [
    {
     "data": {
      "text/plain": [
       "5"
      ]
     },
     "execution_count": 7,
     "metadata": {},
     "output_type": "execute_result"
    }
   ],
   "source": [
    "5"
   ]
  },
  {
   "cell_type": "code",
   "execution_count": null,
   "metadata": {
    "collapsed": true
   },
   "outputs": [],
   "source": []
  }
 ],
 "metadata": {
  "kernelspec": {
   "display_name": "Python 3",
   "language": "python",
   "name": "python3"
  },
  "language_info": {
   "codemirror_mode": {
    "name": "ipython",
    "version": 3
   },
   "file_extension": ".py",
   "mimetype": "text/x-python",
   "name": "python",
   "nbconvert_exporter": "python",
   "pygments_lexer": "ipython3",
   "version": "3.4.5"
  }
 },
 "nbformat": 4,
 "nbformat_minor": 2
}
