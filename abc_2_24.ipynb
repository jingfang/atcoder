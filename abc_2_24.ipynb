date = "2019/04/30"
year = date[:4]
month = date[5:7]
if int(year) < 2019:
        print("Heisei")
elif month == "01" or "02" or "03" or "04":
        print("Heisei")
else:
        print(TBD)
