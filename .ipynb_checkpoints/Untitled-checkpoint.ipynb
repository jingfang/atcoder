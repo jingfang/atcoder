{
 "cells": [
  {
   "cell_type": "markdown",
   "metadata": {},
   "source": [
    "Atcoder grand contest 029 問題A"
   ]
  },
  {
   "cell_type": "markdown",
   "metadata": {},
   "source": [
    "自分の解答"
   ]
  },
  {
   "cell_type": "code",
   "execution_count": 5,
   "metadata": {},
   "outputs": [
    {
     "name": "stdout",
     "output_type": "stream",
     "text": [
      "BWWB\n"
     ]
    },
    {
     "data": {
      "text/plain": [
       "[1, 2]"
      ]
     },
     "execution_count": 5,
     "metadata": {},
     "output_type": "execute_result"
    }
   ],
   "source": [
    "import numpy as np\n",
    "def find(s, ch):\n",
    "    return [i for i, ltr in enumerate(s) if ltr == ch]\n",
    "\n",
    "S=input()\n",
    "find(S,'W')"
   ]
  },
  {
   "cell_type": "code",
   "execution_count": 6,
   "metadata": {},
   "outputs": [
    {
     "data": {
      "text/plain": [
       "[0, 1, 2]"
      ]
     },
     "execution_count": 6,
     "metadata": {},
     "output_type": "execute_result"
    }
   ],
   "source": [
    "def find(s, ch):\n",
    "    return [i for i, ltr in enumerate(s) if ltr == ch]\n",
    "find(\"ooottat\", \"o\")"
   ]
  },
  {
   "cell_type": "code",
   "execution_count": 13,
   "metadata": {},
   "outputs": [
    {
     "name": "stdout",
     "output_type": "stream",
     "text": [
      "BWW\n",
      "[1, 2] [0 1]\n",
      "2\n"
     ]
    }
   ],
   "source": [
    "import numpy as np\n",
    "def find(s, ch):\n",
    "    return [i for i, ltr in enumerate(s) if ltr == ch]\n",
    "\n",
    "S=input()\n",
    "A=find(S,'W')\n",
    "B=np.arange(len(A))\n",
    "print(A,B)\n",
    "print(np.sum(A-B))"
   ]
  },
  {
   "cell_type": "markdown",
   "metadata": {},
   "source": [
    "問題B"
   ]
  },
  {
   "cell_type": "code",
   "execution_count": 22,
   "metadata": {},
   "outputs": [
    {
     "name": "stdout",
     "output_type": "stream",
     "text": [
      "4\n",
      "4 4 4 4\n",
      "[4, 4, 4, 4]\n",
      "2\n"
     ]
    }
   ],
   "source": [
    "#提出 #3807057\n",
    "from collections import Counter\n",
    " \n",
    "n = int(input())\n",
    "nums = sorted(list(map(int, input().split())), reverse=True)\n",
    "num_map = Counter(nums)\n",
    " \n",
    "answer = 0\n",
    "for num in nums:\n",
    "    pair = (1 << (num.bit_length())) - num\n",
    " \n",
    "    if num_map[num] > 0 and num_map[pair]>0:\n",
    "        if num == pair and num_map[num] > 1:\n",
    "            answer += 1\n",
    "            num_map[num] -= 2\n",
    "        if num > pair:\n",
    "            answer += 1\n",
    "            num_map[num] -= 1\n",
    "            num_map[pair] -= 1\n",
    "print(answer)"
   ]
  },
  {
   "cell_type": "markdown",
   "metadata": {},
   "source": [
    "解説:\n",
    "<< : bitwise left shift\n",
    ">>> bin(0b1111 << 1)\n",
    "'0b11110'\n",
    ">>> bin(0b1111 << 2)\n",
    "'0b111100'\n",
    ">>> bin(0b1111 << 3)\n",
    "'0b1111000'\n",
    ">>> bin(0b1111 << 4)\n",
    "'0b11110000'\n",
    "\n",
    "最大のを取って来てるからペアは常に一意\n"
   ]
  }
 ],
 "metadata": {
  "kernelspec": {
   "display_name": "Python 3",
   "language": "python",
   "name": "python3"
  },
  "language_info": {
   "codemirror_mode": {
    "name": "ipython",
    "version": 3
   },
   "file_extension": ".py",
   "mimetype": "text/x-python",
   "name": "python",
   "nbconvert_exporter": "python",
   "pygments_lexer": "ipython3",
   "version": "3.4.5"
  }
 },
 "nbformat": 4,
 "nbformat_minor": 2
}
