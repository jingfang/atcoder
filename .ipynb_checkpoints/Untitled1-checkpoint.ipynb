{
 "cells": [
  {
   "cell_type": "code",
   "execution_count": null,
   "metadata": {
    "collapsed": true
   },
   "outputs": [],
   "source": [
    "At30\n",
    "問題A checkまで9分"
   ]
  },
  {
   "cell_type": "code",
   "execution_count": 6,
   "metadata": {},
   "outputs": [
    {
     "name": "stdout",
     "output_type": "stream",
     "text": [
      "8 8 1\n",
      "9\n"
     ]
    }
   ],
   "source": [
    "a,b,c =map(int,input().split())\n",
    "if c <= a+b:\n",
    "    print(b+c)\n",
    "else:\n",
    "    print(a+2*b+1)"
   ]
  },
  {
   "cell_type": "code",
   "execution_count": 8,
   "metadata": {},
   "outputs": [
    {
     "ename": "SyntaxError",
     "evalue": "invalid syntax (<ipython-input-8-3e6b5090724c>, line 4)",
     "output_type": "error",
     "traceback": [
      "\u001b[0;36m  File \u001b[0;32m\"<ipython-input-8-3e6b5090724c>\"\u001b[0;36m, line \u001b[0;32m4\u001b[0m\n\u001b[0;31m    確かに...\u001b[0m\n\u001b[0m         ^\u001b[0m\n\u001b[0;31mSyntaxError\u001b[0m\u001b[0;31m:\u001b[0m invalid syntax\n"
     ]
    }
   ],
   "source": [
    "#分析\n",
    "#感動したコード\n",
    "print(b+min(c,a+b+1))\n",
    "#確かに..."
   ]
  },
  {
   "cell_type": "code",
   "execution_count": 25,
   "metadata": {},
   "outputs": [
    {
     "data": {
      "text/plain": [
       "3"
      ]
     },
     "execution_count": 25,
     "metadata": {},
     "output_type": "execute_result"
    }
   ],
   "source": [
    "l = [1,2,3,4]\n",
    "l[-2]"
   ]
  },
  {
   "cell_type": "code",
   "execution_count": 48,
   "metadata": {},
   "outputs": [
    {
     "name": "stdout",
     "output_type": "stream",
     "text": [
      "10 3\n",
      "2\n",
      "7\n",
      "9\n",
      "12\n"
     ]
    }
   ],
   "source": [
    "ln = input().split()\n",
    "#print(ln,ln[1])\n",
    "#l[0]=L, l[1]=N\n",
    "x = [0] #リスト初期化\n",
    "p = [0]\n",
    "temp = 0\n",
    "for i in range(int(ln[1])):\n",
    "    x.append(int(input()))\n",
    "    temp += x[i]\n",
    "    p.append(temp)\n",
    "dist = [temp]\n",
    "temp = 0\n",
    "for i in range(int(ln[1])):\n",
    "    temp += (int(ln[0])-x[-(i+1)])\n",
    "#    m.append(temp)\n",
    "    dist.append(temp+p[-(i+2)])\n",
    "print(max(dist))"
   ]
  },
  {
   "cell_type": "code",
   "execution_count": 49,
   "metadata": {},
   "outputs": [
    {
     "name": "stdout",
     "output_type": "stream",
     "text": [
      "[0, 2, 9, 18]\n",
      "[18, 10, 6, 12]\n",
      "[0, 1, 4, 12]\n",
      "18\n"
     ]
    }
   ],
   "source": [
    "L=10\n",
    "x = [2,7,9]\n",
    "temp = 0\n",
    "p = [0]\n",
    "m = [0]\n",
    "\n",
    "for i in range(3):\n",
    "    temp += int(x[i])\n",
    "    p.append(temp)\n",
    "print(p)\n",
    "dist = [temp]\n",
    "temp=0\n",
    "\n",
    "for i in range(3):\n",
    "    temp += (L-x[-(i+1)])\n",
    "    m.append(temp) #m[i+1]の書き込み\n",
    "    dist.append(temp+p[-(i+2)])\n",
    "print(dist)\n",
    "print(m)\n",
    "print(max(dist))"
   ]
  },
  {
   "cell_type": "code",
   "execution_count": 35,
   "metadata": {},
   "outputs": [
    {
     "name": "stdout",
     "output_type": "stream",
     "text": [
      "1\n"
     ]
    }
   ],
   "source": [
    "print(x[-0])"
   ]
  },
  {
   "cell_type": "code",
   "execution_count": null,
   "metadata": {
    "collapsed": true
   },
   "outputs": [],
   "source": [
    "ln = input().split()\n",
    "for i in range(int(ln[1])):\n",
    "    temp += int(x[i])"
   ]
  },
  {
   "cell_type": "code",
   "execution_count": 52,
   "metadata": {},
   "outputs": [
    {
     "name": "stdout",
     "output_type": "stream",
     "text": [
      "2 1\n",
      "2 [7, 9]\n"
     ]
    }
   ],
   "source": [
    "L=10\n",
    "samp = [1,2,3,6,7,9]\n",
    "current = 0\n",
    "direction = 'L'\n",
    "#for i in range(N):\n",
    "#if direction = 'l'\n",
    "l = samp[0]\n",
    "r = samp[-1]\n",
    "ldist = l-current\n",
    "rdist = L-r+current\n",
    "if ldist > rdist:\n",
    "    direction = 'L'\n",
    "    current = samp.pop(0)\n",
    "else:\n",
    "    direction = 'R'\n",
    "    current = samp.pop(-1)\n",
    "#print(l-current,L-r+current)\n",
    "#if ini > L-fin\n",
    "\n",
    "current = samp.pop(0)\n",
    "\n",
    "print(current,samp)"
   ]
  },
  {
   "cell_type": "code",
   "execution_count": 53,
   "metadata": {},
   "outputs": [
    {
     "data": {
      "text/plain": [
       "7"
      ]
     },
     "execution_count": 53,
     "metadata": {},
     "output_type": "execute_result"
    }
   ],
   "source": [
    "samp = [2,7,9]\n",
    "samp.pop(0)\n",
    "samp.pop(0)"
   ]
  },
  {
   "cell_type": "code",
   "execution_count": 63,
   "metadata": {},
   "outputs": [
    {
     "name": "stdout",
     "output_type": "stream",
     "text": [
      "iteration=0\n",
      "mn0\n",
      "11\n",
      "171\n",
      "171\n",
      "from x to y\n",
      "89\n",
      "89\n",
      "171\n",
      "iteration=1\n",
      "mn1\n",
      "20\n",
      "162\n",
      "171\n",
      "from x to y\n",
      "80\n",
      "202\n",
      "202\n",
      "iteration=2\n",
      "mn1\n",
      "50\n",
      "110\n",
      "202\n",
      "from x to y\n",
      "50\n",
      "132\n",
      "202\n",
      "iteration=3\n",
      "mn0\n",
      "90\n",
      "90\n",
      "202\n",
      "from x to y\n",
      "10\n",
      "110\n",
      "202\n",
      "202\n"
     ]
    }
   ],
   "source": [
    "#めっちゃ頭良さそうな解答 and 書き方\n",
    "\n",
    "from itertools import accumulate\n",
    "L, N = 100,4\n",
    "X = [11,20,50,90]\n",
    "\n",
    "Y = [L - x for x in X][::-1]\n",
    " \n",
    "sx = [0] + list(accumulate(X))\n",
    "sy = [0] + list(accumulate(Y))\n",
    " \n",
    "ans = 0\n",
    "for i in range(N):\n",
    "    print('iteration='+str(i))\n",
    "    j = N - i - 1\n",
    "    mn = min(i, j)\n",
    " \n",
    "    print('mn'+str(mn))\n",
    "    now = X[i]\n",
    "    print(now)\n",
    "    now += 2 * (sx[i] - sx[i - mn]) + 2 * (sy[j] - sy[j - mn - (i < j)])\n",
    "    print(now)\n",
    "    ans = max(ans, now)\n",
    "    print(ans)\n",
    "    \n",
    "    print('from x to y')\n",
    "    now = Y[j]\n",
    "    print(now)\n",
    "    now += 2 * (sx[i] - sx[i - mn - (i > j)]) + 2 * (sy[j] - sy[j - mn])\n",
    "    print(now)\n",
    "    ans = max(ans, now)\n",
    "    print(ans)\n",
    "\n",
    "    \n",
    "print(ans)"
   ]
  },
  {
   "cell_type": "code",
   "execution_count": 65,
   "metadata": {},
   "outputs": [
    {
     "name": "stdout",
     "output_type": "stream",
     "text": [
      "202\n"
     ]
    }
   ],
   "source": [
    "def solve(cw, ccw):\n",
    "    now = 0\n",
    "    for i in range(n):\n",
    "        now += (cw[i+1]-cw[i]) * max(n-i*2, 0)\n",
    "        now += (ccw[i+1]-ccw[i]) * max(n-i*2-1, 0)\n",
    " \n",
    "    ans = now\n",
    "    for i in range(n-1):\n",
    "        now += cw[(n+i)//2+1]\n",
    "        now -= cw[i+1]*2\n",
    "        now -= ccw[(n-i)//2]\n",
    "        ans = max(ans, now)\n",
    "    return ans\n",
    " \n",
    "l,n = 100,4\n",
    "X = [11,20,50,90]\n",
    "\n",
    "cwl = [0]\n",
    "ccwl = []\n",
    " \n",
    "for i in range(n):\n",
    "    xi = X[i]\n",
    "    cwl.append(xi)\n",
    "    ccwl.append(l-xi)\n",
    "ccwl.append(0)\n",
    "ccwl.reverse()\n",
    " \n",
    "cw = solve(cwl, ccwl)\n",
    "ccw = solve(ccwl, cwl)\n",
    "print(max([cw, ccw]))"
   ]
  },
  {
   "cell_type": "code",
   "execution_count": 66,
   "metadata": {},
   "outputs": [
    {
     "name": "stdout",
     "output_type": "stream",
     "text": [
      "202\n"
     ]
    }
   ],
   "source": [
    "# -*- coding: utf-8 -*-\n",
    "\"\"\"\n",
    "Created on Sun Dec 30 09:04:16 2018\n",
    " \n",
    "@author: Yamazaki Kenichi\n",
    "\"\"\"\n",
    "L, N = 100,4\n",
    "X = [11,20,50,90]\n",
    " \n",
    "#inp = input().split()\n",
    "#inp = [int(i) for i in inp]\n",
    "#L, N = inp[0],inp[1]\n",
    "#X = inp[2:]\n",
    " \n",
    "X = [0] + X \n",
    "temp = L - X[1]\n",
    "ans =  temp\n",
    " \n",
    "itr1 = 0\n",
    "itr2 = N\n",
    " \n",
    "a = N%2\n",
    " \n",
    "for i in range(-(N-1),N):\n",
    "    if (i+a)%2 == 1:\n",
    "        itr1 += 1\n",
    "    else:\n",
    "        itr2 -= 1\n",
    " \n",
    "    if X[i]-X[i-itr1] >=0:\n",
    "        minus = X[i]-X[i-itr1]\n",
    "    else:\n",
    "        minus = L+(X[i]-X[i-itr1])\n",
    " \n",
    "    if X[i+itr2]-X[i] >=0:\n",
    "        plus = X[i+itr2]-X[i]\n",
    "    else:\n",
    "        plus = L+(X[i+itr2]-X[i])\n",
    "    temp = temp - minus + plus\n",
    "#    print(temp)\n",
    "    ans = max(ans,temp)\n",
    "print(ans)"
   ]
  },
  {
   "cell_type": "code",
   "execution_count": null,
   "metadata": {
    "collapsed": true
   },
   "outputs": [],
   "source": []
  }
 ],
 "metadata": {
  "kernelspec": {
   "display_name": "Python 3",
   "language": "python",
   "name": "python3"
  },
  "language_info": {
   "codemirror_mode": {
    "name": "ipython",
    "version": 3
   },
   "file_extension": ".py",
   "mimetype": "text/x-python",
   "name": "python",
   "nbconvert_exporter": "python",
   "pygments_lexer": "ipython3",
   "version": "3.4.5"
  }
 },
 "nbformat": 4,
 "nbformat_minor": 2
}
