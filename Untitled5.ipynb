{
 "cells": [
  {
   "cell_type": "code",
   "execution_count": 6,
   "metadata": {},
   "outputs": [
    {
     "name": "stdout",
     "output_type": "stream",
     "text": [
      "1 9 7 4\n",
      "YES\n"
     ]
    }
   ],
   "source": [
    "#問題A\n",
    "nums = list(map(int,input().split()))\n",
    "flag1 = 1 in nums and 9 in nums and 7 in nums and 4 in nums\n",
    "if flag1 == True:\n",
    "    print(\"YES\")\n",
    "else:\n",
    "    print(\"NO\")"
   ]
  },
  {
   "cell_type": "code",
   "execution_count": 71,
   "metadata": {},
   "outputs": [
    {
     "name": "stdout",
     "output_type": "stream",
     "text": [
      "keyofscience\n",
      "YES\n"
     ]
    }
   ],
   "source": [
    "#問題 B\n",
    "S=input()\n",
    "answer = 'NO'\n",
    "\n",
    "if 'keyence' in S:\n",
    "    answer = 'YES'\n",
    "elif S[:6] == 'keyenc':\n",
    "    if S[-1:] == 'e':\n",
    "        answer = 'YES'\n",
    "elif S[:5] == 'keyen':\n",
    "    if S[-2:] == 'ce':\n",
    "        answer = 'YES'\n",
    "elif S[:4] == 'keye':\n",
    "    if S[-3:] == 'nce':\n",
    "        answer = 'YES'\n",
    "elif S[:3] == 'key':\n",
    "    if S[-4:] == 'ence':\n",
    "        answer = 'YES'\n",
    "elif S[:2] == 'ke':\n",
    "    if S[-5:] == 'yence':\n",
    "        answer = 'YES'\n",
    "elif S[:1] == 'k':\n",
    "    if S[-6:] == 'eyence':\n",
    "        answer = 'YES'\n",
    "\n",
    "print(answer)"
   ]
  },
  {
   "cell_type": "code",
   "execution_count": 55,
   "metadata": {},
   "outputs": [
    {
     "name": "stdout",
     "output_type": "stream",
     "text": [
      "12\n",
      "757232153 372327760 440075441 195848680 354974235 458054863 463477172 740174259 615762794 632963102 529866931 64991604\n",
      "74164189 98239366 465611891 362739947 147060907 118867039 63189252 78303147 501410831 110823640 122948912 572905212\n",
      "5\n"
     ]
    }
   ],
   "source": [
    "#問題C\n",
    "import numpy as np\n",
    "N = int(input())\n",
    "A = list(map(int,input().split())) #準備度\n",
    "B = list(map(int,input().split())) #試験\n",
    "\n",
    "A = np.array(A)\n",
    "B = np.array(B)\n",
    "\n",
    "\n",
    "sumA = sum(A)\n",
    "sumB = sum(B)\n",
    "\n",
    "if sumA < sumB:\n",
    "    print(-1)\n",
    "else:\n",
    "    gap = A - B\n",
    "    minus = gap[gap<0]\n",
    "    numminus = len(gap[gap<0])\n",
    "    if numminus == 0:\n",
    "        print(0)\n",
    "    else:\n",
    "        needs = - minus.sum()\n",
    "        sortgap = np.sort(gap)[::-1]\n",
    "        s = 0\n",
    "        for i in range(N):\n",
    "            s += sortgap[i]\n",
    "            if s >= needs:\n",
    "                changedplus = i+1\n",
    "                break\n",
    "        print(changedplus + numminus)"
   ]
  },
  {
   "cell_type": "markdown",
   "metadata": {},
   "source": [
    "ここから先debu\n"
   ]
  },
  {
   "cell_type": "code",
   "execution_count": 52,
   "metadata": {},
   "outputs": [
    {
     "name": "stdout",
     "output_type": "stream",
     "text": [
      "False\n",
      "[2 1 0]\n",
      "0\n",
      "[]\n",
      "needs\n",
      "0\n",
      "1\n"
     ]
    }
   ],
   "source": [
    "#C用のデバッグ\n",
    "N = 3\n",
    "A = np.array([2,3,3])\n",
    "B = np.array([2,2,1])\n",
    "sumA = sum(A)\n",
    "sumB = sum(B)\n",
    "print(sumA < sumB)   \n",
    "gap = A - B\n",
    "minus = gap[gap<0]\n",
    "numminus = len(gap[gap<0])\n",
    "needs = - minus.sum()\n",
    "print(np.sort(gap)[::-1])\n",
    "print(numminus)\n",
    "print(minus)\n",
    "print(\"needs\")\n",
    "print(needs)\n",
    "sortgap = np.sort(gap)[::-1]\n",
    "s = 0\n",
    "for i in range(N):\n",
    "    s += sortgap[i]\n",
    "    if s >= needs:\n",
    "        changedplus = i+1\n",
    "        break\n",
    "print(changedplus + numminus)"
   ]
  },
  {
   "cell_type": "code",
   "execution_count": 36,
   "metadata": {},
   "outputs": [
    {
     "name": "stdout",
     "output_type": "stream",
     "text": [
      "[ 2  1 -1 -2 -2]\n",
      "3\n",
      "[-2 -2 -1]\n",
      "-5\n"
     ]
    }
   ],
   "source": [
    "#C用のデバッグ\n",
    "A = np.array([3,4,3,2,2])\n",
    "B = np.array([2,3,1,4,2])\n",
    "sumA = sum(A)\n",
    "sumB = sum(B)\n",
    "\n",
    "if sumA < sumB:\n",
    "    print(-1)\n",
    "else:\n",
    "    gap = A - B\n",
    "    minus = gap[gap<0]\n",
    "    numminus = len(gap[gap<0])\n",
    "    minussum = minus.sum()\n",
    "    print(np.sort(gap)[::-1])\n",
    "    print(numminus)\n",
    "    print(minus)\n",
    "    print(minussum)\n",
    "    for i in np.sort(gap)[::-1]"
   ]
  },
  {
   "cell_type": "code",
   "execution_count": 59,
   "metadata": {},
   "outputs": [
    {
     "name": "stdout",
     "output_type": "stream",
     "text": [
      "ka\n"
     ]
    }
   ],
   "source": [
    "#B用のデバッグ\n",
    "S='kaeyence'\n",
    "print(S[:2])"
   ]
  },
  {
   "cell_type": "code",
   "execution_count": 58,
   "metadata": {},
   "outputs": [
    {
     "name": "stdout",
     "output_type": "stream",
     "text": [
      "YES\n"
     ]
    }
   ],
   "source": [
    "#問題B elif check\n",
    "\n",
    "S='kaeyence'\n",
    "\n",
    "if 'keyence' in S:\n",
    "    answer = 'YES'\n",
    "elif S[0] == 'k':\n",
    "    if S[-6:] == 'eyence':\n",
    "        answer = 'YES'\n",
    "elif S[:2] == 'ke':\n",
    "    if S[-6:] == 'eyence':\n",
    "        answer = 'YES'\n",
    "print(answer)\n"
   ]
  },
  {
   "cell_type": "code",
   "execution_count": 68,
   "metadata": {},
   "outputs": [
    {
     "name": "stdout",
     "output_type": "stream",
     "text": [
      "0\n"
     ]
    }
   ],
   "source": [
    "S=\"keyofscience\"\n",
    "if 'keyence' in S:\n",
    "    answer = 'YES'\n",
    "elif S[:2] == 'ke':\n",
    "    print(0)\n",
    "elif S[:3] == 'key':\n",
    "    print(1)\n",
    "#print(S[:3] == 'key')"
   ]
  },
  {
   "cell_type": "code",
   "execution_count": 123,
   "metadata": {},
   "outputs": [
    {
     "name": "stdout",
     "output_type": "stream",
     "text": [
      "343772227\n"
     ]
    }
   ],
   "source": [
    "#問題D\n",
    "#M,N = list(map(int,input().split())) \n",
    "#ROW = list(map(int,input().split())) \n",
    "#COL = list(map(int,input().split())) \n",
    "#M= 3\n",
    "#N= 3\n",
    "#ROW = [8,9,7]\n",
    "#COL = [6,9,8]\n",
    "import numpy as np\n",
    "N,M = 14,13\n",
    "ROW = [158, 167, 181, 147, 178, 151, 179, 182, 176, 169, 180, 129, 175, 168]\n",
    "COL = [181, 150, 178, 179, 167, 180, 176, 169, 182, 177, 175, 159, 173]\n",
    "row = 0\n",
    "col = 0\n",
    "ans = 1\n",
    "mod = 10**9 + 7\n",
    "#print(nums)\n",
    "for i in range(N*M, 0, -1):\n",
    "    if i in ROW and i in COL:\n",
    "        row += 1\n",
    "        col += 1\n",
    "    elif i in ROW and i not in COL:\n",
    "        row += 1\n",
    "        ans *= col\n",
    "#        pattern[i-1] = col\n",
    "    elif i not in ROW and i in COL:\n",
    "        col += 1\n",
    "        ans *= row\n",
    "#       pattern[i-1] = row\n",
    "    elif i not in ROW and i not in COL:\n",
    "#        pattern[i-1] = row * col - (M*N-i)\n",
    "        ans *= (row * col - (M*N-i))\n",
    "        if (row * col - (M*N-i)) <= 0:\n",
    "            ans = 0\n",
    "            break\n",
    "    ans %= mod\n",
    "#    print(i,row,col,pattern[i-1])\n",
    "#print(pattern)\n",
    "#ans = int(pattern.prod())\n",
    "#ans = ans % (10**9+7)\n",
    "print(ans)"
   ]
  },
  {
   "cell_type": "code",
   "execution_count": 128,
   "metadata": {},
   "outputs": [
    {
     "name": "stdout",
     "output_type": "stream",
     "text": [
      "343772227\n"
     ]
    }
   ],
   "source": [
    "#問題D\n",
    "#M,N = list(map(int,input().split())) \n",
    "#ROW = list(map(int,input().split())) \n",
    "#COL = list(map(int,input().split())) \n",
    "#M= 3\n",
    "#N= 3 \n",
    "#ROW = [8,9,7]\n",
    "#COL = [6,9,8]\n",
    "N,M = 14,13\n",
    "ROW = [158, 167, 181, 147, 178, 151, 179, 182, 176, 169, 180, 129, 175, 168]\n",
    "COL = [181, 150, 178, 179, 167, 180, 176, 169, 182, 177, 175, 159, 173]\n",
    "\n",
    "import numpy as np\n",
    "row = 0\n",
    "col = 0\n",
    "nums = np.arange(1,M*N+1)[::-1]\n",
    "pattern = np.zeros(M*N)\n",
    "ans = 1\n",
    "#print(nums)\n",
    "for i in nums:\n",
    "    if i in ROW and i in COL:\n",
    "        row += 1\n",
    "        col += 1\n",
    "#        pattern[i-1] = 1\n",
    "    elif i in ROW and i not in COL:\n",
    "        row += 1\n",
    "#        pattern[i-1] = col\n",
    "        ans *= col\n",
    "    elif i not in ROW and i in COL:\n",
    "        col += 1\n",
    "#        pattern[i-1] = row\n",
    "        ans *= row\n",
    "\n",
    "    elif i not in ROW and i not in COL:\n",
    "#        pattern[i-1] = row * col - (M*N-i)\n",
    "        ans *= (row * col - (M*N-i))\n",
    "       \n",
    "        if row * col - (M*N-i) <= 0:\n",
    "            ans = 0\n",
    "            break\n",
    "    ans %= (10**9+7)\n",
    "#    print(i,row,col,pattern[i-1])\n",
    "#print(pattern)\n",
    "#ans = int(pattern.prod())\n",
    "#ans = ans % (10**9+7)\n",
    "print(ans)"
   ]
  },
  {
   "cell_type": "code",
   "execution_count": 115,
   "metadata": {},
   "outputs": [
    {
     "name": "stdout",
     "output_type": "stream",
     "text": [
      "343772227\n"
     ]
    }
   ],
   "source": [
    "N,M = 14,13\n",
    "A = [158, 167, 181, 147, 178, 151, 179, 182, 176, 169, 180, 129, 175, 168]\n",
    "B = [181, 150, 178, 179, 167, 180, 176, 169, 182, 177, 175, 159, 173]\n",
    "A.sort(reverse=True)\n",
    "B.sort(reverse=True)\n",
    "ia = ib = 0\n",
    "ans = 1\n",
    "mod = 10**9 + 7\n",
    "for n in range(N*M, 0, -1):\n",
    "    i = N*M - n\n",
    "    if ia < N and ib < M and A[ia]==B[ib]==n:\n",
    "        ia += 1\n",
    "        ib += 1\n",
    "    elif ia < N and A[ia]==n:\n",
    "        ia += 1\n",
    "        ans *= ib\n",
    "    elif ib < M and B[ib]==n:\n",
    "        ib += 1\n",
    "        ans *= ia\n",
    "    else:\n",
    "        ans *= ia * ib - i\n",
    "    #print(ia, ib, ia*ib-i)\n",
    "    ans %= mod\n",
    "print(ans)"
   ]
  },
  {
   "cell_type": "code",
   "execution_count": 101,
   "metadata": {},
   "outputs": [
    {
     "data": {
      "text/plain": [
       "3"
      ]
     },
     "execution_count": 101,
     "metadata": {},
     "output_type": "execute_result"
    }
   ],
   "source": [
    "(10**9+10) % (10**9+7)"
   ]
  },
  {
   "cell_type": "code",
   "execution_count": 107,
   "metadata": {},
   "outputs": [
    {
     "name": "stdout",
     "output_type": "stream",
     "text": [
      "4 1 0 3 3\n"
     ]
    },
    {
     "ename": "IndexError",
     "evalue": "list index out of range",
     "output_type": "error",
     "traceback": [
      "\u001b[0;31m---------------------------------------------------------------------------\u001b[0m",
      "\u001b[0;31mIndexError\u001b[0m                                Traceback (most recent call last)",
      "\u001b[0;32m<ipython-input-107-b6193d34bbc0>\u001b[0m in \u001b[0;36m<module>\u001b[0;34m()\u001b[0m\n\u001b[1;32m     21\u001b[0m     \u001b[0;31m#print(ia, ib, ia*ib-i)\u001b[0m\u001b[0;34m\u001b[0m\u001b[0;34m\u001b[0m\u001b[0m\n\u001b[1;32m     22\u001b[0m     \u001b[0mans\u001b[0m \u001b[0;34m%=\u001b[0m \u001b[0mmod\u001b[0m\u001b[0;34m\u001b[0m\u001b[0m\n\u001b[0;32m---> 23\u001b[0;31m     \u001b[0mprint\u001b[0m\u001b[0;34m(\u001b[0m\u001b[0mn\u001b[0m\u001b[0;34m,\u001b[0m\u001b[0mia\u001b[0m\u001b[0;34m,\u001b[0m\u001b[0mib\u001b[0m\u001b[0;34m,\u001b[0m\u001b[0mA\u001b[0m\u001b[0;34m[\u001b[0m\u001b[0mia\u001b[0m\u001b[0;34m]\u001b[0m\u001b[0;34m,\u001b[0m\u001b[0mB\u001b[0m\u001b[0;34m[\u001b[0m\u001b[0mib\u001b[0m\u001b[0;34m]\u001b[0m\u001b[0;34m)\u001b[0m\u001b[0;34m\u001b[0m\u001b[0m\n\u001b[0m\u001b[1;32m     24\u001b[0m \u001b[0mprint\u001b[0m\u001b[0;34m(\u001b[0m\u001b[0mans\u001b[0m\u001b[0;34m)\u001b[0m\u001b[0;34m\u001b[0m\u001b[0m\n",
      "\u001b[0;31mIndexError\u001b[0m: list index out of range"
     ]
    }
   ],
   "source": [
    "M = 2\n",
    "N = 2 \n",
    "A = [4,3]\n",
    "B = [3,4]\n",
    "ia = ib = 0\n",
    "ans = 1\n",
    "mod = 10**9 + 7\n",
    "for n in range(N*M, 0, -1):\n",
    "    i = N*M - n\n",
    "    if ia < N and ib < M and A[ia]==B[ib]==n:\n",
    "        ia += 1\n",
    "        ib += 1\n",
    "    elif ia < N and A[ia]==n:\n",
    "        ia += 1\n",
    "        ans *= ib\n",
    "    elif ib < M and B[ib]==n:\n",
    "        ib += 1\n",
    "        ans *= ia\n",
    "    else:\n",
    "        ans *= ia * ib - i\n",
    "    #print(ia, ib, ia*ib-i)\n",
    "    ans %= mod\n",
    "    print(n,ia,ib,A[ia],B[ib])\n",
    "print(ans)"
   ]
  },
  {
   "cell_type": "code",
   "execution_count": 111,
   "metadata": {},
   "outputs": [
    {
     "name": "stdout",
     "output_type": "stream",
     "text": [
      "14 13\n"
     ]
    }
   ],
   "source": [
    "M,N = 14,13\n",
    "print(M,N)"
   ]
  },
  {
   "cell_type": "code",
   "execution_count": 130,
   "metadata": {},
   "outputs": [
    {
     "data": {
      "text/plain": [
       "120"
      ]
     },
     "execution_count": 130,
     "metadata": {},
     "output_type": "execute_result"
    }
   ],
   "source": [
    "np.arange(1,6).prod()"
   ]
  },
  {
   "cell_type": "code",
   "execution_count": 137,
   "metadata": {},
   "outputs": [
    {
     "name": "stdout",
     "output_type": "stream",
     "text": [
      "[182 181 180 179 178 176 175 169 168 167 158 151 147 129]\n"
     ]
    }
   ],
   "source": [
    "ROW = [158, 167, 181, 147, 178, 151, 179, 182, 176, 169, 180, 129, 175, 168]\n",
    "COL = [181, 150, 178, 179, 167, 180, 176, 169, 182, 177, 175, 159, 173]\n",
    "#print(ROW.sort(reverse=True)[0])\n",
    "print(np.sort(ROW)[::-1])"
   ]
  },
  {
   "cell_type": "code",
   "execution_count": null,
   "metadata": {
    "collapsed": true
   },
   "outputs": [],
   "source": [
    "ROW = np.sort(ROW)[::-1]\n",
    "COL = np.sort(COL)[::-1]"
   ]
  }
 ],
 "metadata": {
  "kernelspec": {
   "display_name": "Python 3",
   "language": "python",
   "name": "python3"
  },
  "language_info": {
   "codemirror_mode": {
    "name": "ipython",
    "version": 3
   },
   "file_extension": ".py",
   "mimetype": "text/x-python",
   "name": "python",
   "nbconvert_exporter": "python",
   "pygments_lexer": "ipython3",
   "version": "3.6.8"
  }
 },
 "nbformat": 4,
 "nbformat_minor": 2
}
