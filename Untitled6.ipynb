{
 "cells": [
  {
   "cell_type": "code",
   "execution_count": 29,
   "metadata": {},
   "outputs": [
    {
     "name": "stdout",
     "output_type": "stream",
     "text": [
      "7 3 4\n",
      "8\n"
     ]
    }
   ],
   "source": [
    "K,A,B = map(int,input().split())\n",
    "\n",
    "if A + 2 >= B:\n",
    "    print(K+1)\n",
    "elif K < A:\n",
    "    print(K+1)\n",
    "elif (K-A+1)%2==0:\n",
    "    ans = A + (K-A+1)*(B-A)/2\n",
    "    print(int(ans))\n",
    "#    print(\"0\")\n",
    "elif (K-A+1)%2==1:\n",
    "    ans = A + 1 + (K-A)*(B-A)/2\n",
    "    print(int(ans))\n",
    "#    print(\"1\")"
   ]
  },
  {
   "cell_type": "code",
   "execution_count": 55,
   "metadata": {},
   "outputs": [
    {
     "name": "stdout",
     "output_type": "stream",
     "text": [
      "20\n",
      "[1, 1, 3, 5, 6, 8, 8, 9, 9, 10, 11, 12, 14, 16, 16, 18, 19, 21, 21, 23]\n",
      "[1, 3, 3, 3, 4, 4, 6, 7, 9, 10, 11, 12, 12, 12, 14, 14, 15, 15, 17, 17]\n"
     ]
    }
   ],
   "source": [
    "mod = 998244353\n",
    "l=\"12001021211100201020\"\n",
    "N = len(l)\n",
    "print(N)\n",
    "R = []\n",
    "B = []\n",
    "if l[0] == \"0\":\n",
    "    R.append(2)\n",
    "    B.append(0)\n",
    "elif l[0] == \"1\":\n",
    "    R.append(1)\n",
    "    B.append(1)\n",
    "elif l[0] == \"2\":\n",
    "    R.append(0)\n",
    "    B.append(2)\n",
    "for i in range(1,N):\n",
    "    if l[i] == \"0\":\n",
    "        R.append(R[-1] + 2)\n",
    "        B.append(B[-1])\n",
    "    elif l[i] == \"1\":\n",
    "        R.append(R[-1] + 1)\n",
    "        B.append(B[-1] + 1)\n",
    "    elif l[i] == \"2\":\n",
    "        R.append(R[-1])\n",
    "        B.append(B[-1] + 2)\n",
    "print(R)\n",
    "print(B)"
   ]
  },
  {
   "cell_type": "code",
   "execution_count": 35,
   "metadata": {},
   "outputs": [
    {
     "name": "stdout",
     "output_type": "stream",
     "text": [
      "8\n",
      "7\n",
      "5\n"
     ]
    }
   ],
   "source": [
    "l=\"12001021211100201020\"\n",
    "N = len(l)\n",
    "R = []\n",
    "B = []\n",
    "for i in range(3):\n",
    "    print(l.count(str(i)))"
   ]
  },
  {
   "cell_type": "code",
   "execution_count": 48,
   "metadata": {},
   "outputs": [
    {
     "data": {
      "text/plain": [
       "'0'"
      ]
     },
     "execution_count": 48,
     "metadata": {},
     "output_type": "execute_result"
    }
   ],
   "source": [
    "l[0]"
   ]
  },
  {
   "cell_type": "code",
   "execution_count": 42,
   "metadata": {},
   "outputs": [
    {
     "name": "stdout",
     "output_type": "stream",
     "text": [
      "15\n"
     ]
    }
   ],
   "source": [
    "import math\n",
    "def combinations_count(n, r):\n",
    "    return math.factorial(n) // (math.factorial(n - r) * math.factorial(r))\n",
    "\n",
    "print(combinations_count(6,2))"
   ]
  },
  {
   "cell_type": "code",
   "execution_count": 41,
   "metadata": {},
   "outputs": [
    {
     "data": {
      "text/plain": [
       "9"
      ]
     },
     "execution_count": 41,
     "metadata": {},
     "output_type": "execute_result"
    }
   ],
   "source": [
    "len(\"88732378800\")\n",
    "len(\"543589959\")"
   ]
  },
  {
   "cell_type": "code",
   "execution_count": 30,
   "metadata": {},
   "outputs": [
    {
     "name": "stdout",
     "output_type": "stream",
     "text": [
      "314159265 35897932 384626433\n",
      "48518828981938099\n"
     ]
    }
   ],
   "source": [
    "K, A, B = map(int,input().split())\n",
    "if B-A <=2:\n",
    "    ans = K + 1\n",
    "elif K <= A:\n",
    "    ans = K +1\n",
    "else:\n",
    "    # A-1回たたく\n",
    "    time = K - (A-1)\n",
    "    ans = A \n",
    "    # n回 A枚をBに交換する 2*n回数分の操作\n",
    "    n = time // 2\n",
    "    mod = time % 2\n",
    "    ans += n*(-A + B)\n",
    "    ans += mod\n",
    "\n",
    "print(ans)"
   ]
  },
  {
   "cell_type": "code",
   "execution_count": null,
   "metadata": {},
   "outputs": [],
   "source": [
    "if K > round((N+1)/2):\n",
    "    print(\"NO\")\n",
    "else:\n",
    "    print(\"YES\")"
   ]
  },
  {
   "cell_type": "code",
   "execution_count": 9,
   "metadata": {},
   "outputs": [
    {
     "name": "stdout",
     "output_type": "stream",
     "text": [
      "2 1\n",
      "3 2\n",
      "4 3\n",
      "1\n"
     ]
    }
   ],
   "source": [
    "a1,b1 = map(int,input().split())\n",
    "a2,b2 = map(int,input().split())\n",
    "a3,b3 = map(int,input().split())\n",
    "l = [a1,b1,a2,b2,a3,b3]\n",
    "\n",
    "yes = 1\n",
    "for i in range(1,5):\n",
    "    if l.count(i)==3:\n",
    "        yes *= 0\n",
    "\n",
    "if yes == 1:\n",
    "    print(\"YES\")\n",
    "else:\n",
    "    print(\"NO\")"
   ]
  },
  {
   "cell_type": "code",
   "execution_count": 3,
   "metadata": {},
   "outputs": [
    {
     "name": "stdout",
     "output_type": "stream",
     "text": [
      "2 3\n"
     ]
    }
   ],
   "source": [
    "print(a,b)"
   ]
  },
  {
   "cell_type": "code",
   "execution_count": 7,
   "metadata": {},
   "outputs": [
    {
     "name": "stdout",
     "output_type": "stream",
     "text": [
      "1\n",
      "2\n",
      "3\n",
      "4\n"
     ]
    }
   ],
   "source": [
    "for i in range(1,5):\n",
    "    print(i)"
   ]
  },
  {
   "cell_type": "code",
   "execution_count": null,
   "metadata": {},
   "outputs": [],
   "source": []
  }
 ],
 "metadata": {
  "kernelspec": {
   "display_name": "Python 3",
   "language": "python",
   "name": "python3"
  },
  "language_info": {
   "codemirror_mode": {
    "name": "ipython",
    "version": 3
   },
   "file_extension": ".py",
   "mimetype": "text/x-python",
   "name": "python",
   "nbconvert_exporter": "python",
   "pygments_lexer": "ipython3",
   "version": "3.6.8"
  }
 },
 "nbformat": 4,
 "nbformat_minor": 2
}
