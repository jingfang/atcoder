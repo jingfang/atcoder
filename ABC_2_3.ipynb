{
 "cells": [
  {
   "cell_type": "code",
   "execution_count": 4,
   "metadata": {},
   "outputs": [
    {
     "name": "stdout",
     "output_type": "stream",
     "text": [
      "8 3\n",
      "2.6666666666666665\n"
     ]
    }
   ],
   "source": [
    "x,y = map(int,input().split())\n",
    "print(x/y)"
   ]
  },
  {
   "cell_type": "code",
   "execution_count": 34,
   "metadata": {},
   "outputs": [
    {
     "ename": "KeyboardInterrupt",
     "evalue": "",
     "output_type": "error",
     "traceback": [
      "\u001b[0;31m---------------------------------------------------------------------------\u001b[0m",
      "\u001b[0;31mKeyboardInterrupt\u001b[0m                         Traceback (most recent call last)",
      "\u001b[0;32m~/.pyenv/versions/anaconda3-4.2.0/envs/py36/lib/python3.6/site-packages/ipykernel/kernelbase.py\u001b[0m in \u001b[0;36m_input_request\u001b[0;34m(self, prompt, ident, parent, password)\u001b[0m\n\u001b[1;32m    877\u001b[0m             \u001b[0;32mtry\u001b[0m\u001b[0;34m:\u001b[0m\u001b[0;34m\u001b[0m\u001b[0;34m\u001b[0m\u001b[0m\n\u001b[0;32m--> 878\u001b[0;31m                 \u001b[0mident\u001b[0m\u001b[0;34m,\u001b[0m \u001b[0mreply\u001b[0m \u001b[0;34m=\u001b[0m \u001b[0mself\u001b[0m\u001b[0;34m.\u001b[0m\u001b[0msession\u001b[0m\u001b[0;34m.\u001b[0m\u001b[0mrecv\u001b[0m\u001b[0;34m(\u001b[0m\u001b[0mself\u001b[0m\u001b[0;34m.\u001b[0m\u001b[0mstdin_socket\u001b[0m\u001b[0;34m,\u001b[0m \u001b[0;36m0\u001b[0m\u001b[0;34m)\u001b[0m\u001b[0;34m\u001b[0m\u001b[0;34m\u001b[0m\u001b[0m\n\u001b[0m\u001b[1;32m    879\u001b[0m             \u001b[0;32mexcept\u001b[0m \u001b[0mException\u001b[0m\u001b[0;34m:\u001b[0m\u001b[0;34m\u001b[0m\u001b[0;34m\u001b[0m\u001b[0m\n",
      "\u001b[0;32m~/.pyenv/versions/anaconda3-4.2.0/envs/py36/lib/python3.6/site-packages/jupyter_client/session.py\u001b[0m in \u001b[0;36mrecv\u001b[0;34m(self, socket, mode, content, copy)\u001b[0m\n\u001b[1;32m    802\u001b[0m         \u001b[0;32mtry\u001b[0m\u001b[0;34m:\u001b[0m\u001b[0;34m\u001b[0m\u001b[0;34m\u001b[0m\u001b[0m\n\u001b[0;32m--> 803\u001b[0;31m             \u001b[0mmsg_list\u001b[0m \u001b[0;34m=\u001b[0m \u001b[0msocket\u001b[0m\u001b[0;34m.\u001b[0m\u001b[0mrecv_multipart\u001b[0m\u001b[0;34m(\u001b[0m\u001b[0mmode\u001b[0m\u001b[0;34m,\u001b[0m \u001b[0mcopy\u001b[0m\u001b[0;34m=\u001b[0m\u001b[0mcopy\u001b[0m\u001b[0;34m)\u001b[0m\u001b[0;34m\u001b[0m\u001b[0;34m\u001b[0m\u001b[0m\n\u001b[0m\u001b[1;32m    804\u001b[0m         \u001b[0;32mexcept\u001b[0m \u001b[0mzmq\u001b[0m\u001b[0;34m.\u001b[0m\u001b[0mZMQError\u001b[0m \u001b[0;32mas\u001b[0m \u001b[0me\u001b[0m\u001b[0;34m:\u001b[0m\u001b[0;34m\u001b[0m\u001b[0;34m\u001b[0m\u001b[0m\n",
      "\u001b[0;32m~/.pyenv/versions/anaconda3-4.2.0/envs/py36/lib/python3.6/site-packages/zmq/sugar/socket.py\u001b[0m in \u001b[0;36mrecv_multipart\u001b[0;34m(self, flags, copy, track)\u001b[0m\n\u001b[1;32m    466\u001b[0m         \"\"\"\n\u001b[0;32m--> 467\u001b[0;31m         \u001b[0mparts\u001b[0m \u001b[0;34m=\u001b[0m \u001b[0;34m[\u001b[0m\u001b[0mself\u001b[0m\u001b[0;34m.\u001b[0m\u001b[0mrecv\u001b[0m\u001b[0;34m(\u001b[0m\u001b[0mflags\u001b[0m\u001b[0;34m,\u001b[0m \u001b[0mcopy\u001b[0m\u001b[0;34m=\u001b[0m\u001b[0mcopy\u001b[0m\u001b[0;34m,\u001b[0m \u001b[0mtrack\u001b[0m\u001b[0;34m=\u001b[0m\u001b[0mtrack\u001b[0m\u001b[0;34m)\u001b[0m\u001b[0;34m]\u001b[0m\u001b[0;34m\u001b[0m\u001b[0;34m\u001b[0m\u001b[0m\n\u001b[0m\u001b[1;32m    468\u001b[0m         \u001b[0;31m# have first part already, only loop while more to receive\u001b[0m\u001b[0;34m\u001b[0m\u001b[0;34m\u001b[0m\u001b[0;34m\u001b[0m\u001b[0m\n",
      "\u001b[0;32mzmq/backend/cython/socket.pyx\u001b[0m in \u001b[0;36mzmq.backend.cython.socket.Socket.recv\u001b[0;34m()\u001b[0m\n",
      "\u001b[0;32mzmq/backend/cython/socket.pyx\u001b[0m in \u001b[0;36mzmq.backend.cython.socket.Socket.recv\u001b[0;34m()\u001b[0m\n",
      "\u001b[0;32mzmq/backend/cython/socket.pyx\u001b[0m in \u001b[0;36mzmq.backend.cython.socket._recv_copy\u001b[0;34m()\u001b[0m\n",
      "\u001b[0;32m~/.pyenv/versions/anaconda3-4.2.0/envs/py36/lib/python3.6/site-packages/zmq/backend/cython/checkrc.pxd\u001b[0m in \u001b[0;36mzmq.backend.cython.checkrc._check_rc\u001b[0;34m()\u001b[0m\n",
      "\u001b[0;31mKeyboardInterrupt\u001b[0m: ",
      "\nDuring handling of the above exception, another exception occurred:\n",
      "\u001b[0;31mKeyboardInterrupt\u001b[0m                         Traceback (most recent call last)",
      "\u001b[0;32m<ipython-input-34-d22f3b6cce3f>\u001b[0m in \u001b[0;36m<module>\u001b[0;34m\u001b[0m\n\u001b[0;32m----> 1\u001b[0;31m \u001b[0mNM\u001b[0m \u001b[0;34m=\u001b[0m \u001b[0mlist\u001b[0m\u001b[0;34m(\u001b[0m\u001b[0mmap\u001b[0m\u001b[0;34m(\u001b[0m\u001b[0mint\u001b[0m\u001b[0;34m,\u001b[0m\u001b[0minput\u001b[0m\u001b[0;34m(\u001b[0m\u001b[0;34m)\u001b[0m\u001b[0;34m.\u001b[0m\u001b[0msplit\u001b[0m\u001b[0;34m(\u001b[0m\u001b[0;34m)\u001b[0m\u001b[0;34m)\u001b[0m\u001b[0;34m)\u001b[0m\u001b[0;34m\u001b[0m\u001b[0;34m\u001b[0m\u001b[0m\n\u001b[0m\u001b[1;32m      2\u001b[0m \u001b[0mN\u001b[0m\u001b[0;34m,\u001b[0m\u001b[0mM\u001b[0m \u001b[0;34m=\u001b[0m \u001b[0mNM\u001b[0m\u001b[0;34m[\u001b[0m\u001b[0;36m0\u001b[0m\u001b[0;34m]\u001b[0m\u001b[0;34m,\u001b[0m \u001b[0mNM\u001b[0m\u001b[0;34m[\u001b[0m\u001b[0;36m1\u001b[0m\u001b[0;34m]\u001b[0m\u001b[0;34m\u001b[0m\u001b[0;34m\u001b[0m\u001b[0m\n\u001b[1;32m      3\u001b[0m \u001b[0mli\u001b[0m \u001b[0;34m=\u001b[0m \u001b[0mlist\u001b[0m\u001b[0;34m(\u001b[0m\u001b[0mmap\u001b[0m\u001b[0;34m(\u001b[0m\u001b[0mint\u001b[0m\u001b[0;34m,\u001b[0m\u001b[0minput\u001b[0m\u001b[0;34m(\u001b[0m\u001b[0;34m)\u001b[0m\u001b[0;34m.\u001b[0m\u001b[0msplit\u001b[0m\u001b[0;34m(\u001b[0m\u001b[0;34m)\u001b[0m\u001b[0;34m)\u001b[0m\u001b[0;34m)\u001b[0m\u001b[0;34m\u001b[0m\u001b[0;34m\u001b[0m\u001b[0m\n\u001b[1;32m      4\u001b[0m \u001b[0;34m\u001b[0m\u001b[0m\n\u001b[1;32m      5\u001b[0m \u001b[0;32mif\u001b[0m \u001b[0mN\u001b[0m\u001b[0;34m>=\u001b[0m\u001b[0mM\u001b[0m\u001b[0;34m:\u001b[0m\u001b[0;34m\u001b[0m\u001b[0;34m\u001b[0m\u001b[0m\n",
      "\u001b[0;32m~/.pyenv/versions/anaconda3-4.2.0/envs/py36/lib/python3.6/site-packages/ipykernel/kernelbase.py\u001b[0m in \u001b[0;36mraw_input\u001b[0;34m(self, prompt)\u001b[0m\n\u001b[1;32m    851\u001b[0m             \u001b[0mself\u001b[0m\u001b[0;34m.\u001b[0m\u001b[0m_parent_ident\u001b[0m\u001b[0;34m,\u001b[0m\u001b[0;34m\u001b[0m\u001b[0;34m\u001b[0m\u001b[0m\n\u001b[1;32m    852\u001b[0m             \u001b[0mself\u001b[0m\u001b[0;34m.\u001b[0m\u001b[0m_parent_header\u001b[0m\u001b[0;34m,\u001b[0m\u001b[0;34m\u001b[0m\u001b[0;34m\u001b[0m\u001b[0m\n\u001b[0;32m--> 853\u001b[0;31m             \u001b[0mpassword\u001b[0m\u001b[0;34m=\u001b[0m\u001b[0;32mFalse\u001b[0m\u001b[0;34m,\u001b[0m\u001b[0;34m\u001b[0m\u001b[0;34m\u001b[0m\u001b[0m\n\u001b[0m\u001b[1;32m    854\u001b[0m         )\n\u001b[1;32m    855\u001b[0m \u001b[0;34m\u001b[0m\u001b[0m\n",
      "\u001b[0;32m~/.pyenv/versions/anaconda3-4.2.0/envs/py36/lib/python3.6/site-packages/ipykernel/kernelbase.py\u001b[0m in \u001b[0;36m_input_request\u001b[0;34m(self, prompt, ident, parent, password)\u001b[0m\n\u001b[1;32m    881\u001b[0m             \u001b[0;32mexcept\u001b[0m \u001b[0mKeyboardInterrupt\u001b[0m\u001b[0;34m:\u001b[0m\u001b[0;34m\u001b[0m\u001b[0;34m\u001b[0m\u001b[0m\n\u001b[1;32m    882\u001b[0m                 \u001b[0;31m# re-raise KeyboardInterrupt, to truncate traceback\u001b[0m\u001b[0;34m\u001b[0m\u001b[0;34m\u001b[0m\u001b[0;34m\u001b[0m\u001b[0m\n\u001b[0;32m--> 883\u001b[0;31m                 \u001b[0;32mraise\u001b[0m \u001b[0mKeyboardInterrupt\u001b[0m\u001b[0;34m\u001b[0m\u001b[0;34m\u001b[0m\u001b[0m\n\u001b[0m\u001b[1;32m    884\u001b[0m             \u001b[0;32melse\u001b[0m\u001b[0;34m:\u001b[0m\u001b[0;34m\u001b[0m\u001b[0;34m\u001b[0m\u001b[0m\n\u001b[1;32m    885\u001b[0m                 \u001b[0;32mbreak\u001b[0m\u001b[0;34m\u001b[0m\u001b[0;34m\u001b[0m\u001b[0m\n",
      "\u001b[0;31mKeyboardInterrupt\u001b[0m: "
     ]
    }
   ],
   "source": [
    "NM = list(map(int,input().split()))\n",
    "N,M = NM[0], NM[1]\n",
    "li = list(map(int,input().split()))\n",
    "\n",
    "if N>=M:\n",
    "    ans = 0\n",
    "else:\n",
    "    li.sort()\n",
    "    diff = []\n",
    "    for i in range(M-1):\n",
    "        diff.append(li[i+1]-li[i])\n",
    "    diff.sort()\n",
    "    if N == 1:\n",
    "        ans = sum(diff)\n",
    "    else:\n",
    "        ans = sum(diff[:-(N-1)])\n",
    "print(ans)"
   ]
  },
  {
   "cell_type": "code",
   "execution_count": 29,
   "metadata": {},
   "outputs": [
    {
     "name": "stdout",
     "output_type": "stream",
     "text": [
      "[-100, -20, -10, 1, 2, 10, 12, 14]\n",
      "[80, 10, 11, 1, 8, 2, 2]\n",
      "[1, 2, 2, 8, 10, 11, 80]\n"
     ]
    }
   ],
   "source": [
    "li = [10,12,1,2,14,-10,-100,-20]\n",
    "M = len(li)\n",
    "li.sort()\n",
    "print(li)\n",
    "diff = []\n",
    "for i in range(M-1):\n",
    "    diff.append(li[i+1]-li[i])\n",
    "print(diff)\n",
    "diff.sort()\n",
    "print(diff)\n",
    "for N in range(M):\n",
    "ans = sum(diff[:-(N-1)])\n",
    "print(ans)"
   ]
  },
  {
   "cell_type": "code",
   "execution_count": 33,
   "metadata": {},
   "outputs": [
    {
     "name": "stdout",
     "output_type": "stream",
     "text": [
      "[-100, -20, -10, 1, 2, 10, 12, 14]\n",
      "[80, 10, 11, 1, 8, 2, 2]\n",
      "[1, 2, 2, 8, 10, 11, 80]\n",
      "114\n",
      "34\n",
      "23\n",
      "13\n",
      "5\n",
      "3\n",
      "1\n"
     ]
    }
   ],
   "source": [
    "li = [10,12,1,2,14,-10,-100,-20]\n",
    "M = len(li)\n",
    "li.sort()\n",
    "print(li)\n",
    "diff = []\n",
    "for i in range(M-1):\n",
    "    diff.append(li[i+1]-li[i])\n",
    "print(diff)\n",
    "diff.sort()\n",
    "print(diff)\n",
    "for N in range(1,M):\n",
    "    if N == 1:\n",
    "        ans = sum(diff)\n",
    "    else:\n",
    "        ans = sum(diff[:-(N-1)])\n",
    "    print(ans)"
   ]
  },
  {
   "cell_type": "markdown",
   "metadata": {},
   "source": [
    "## "
   ]
  },
  {
   "cell_type": "code",
   "execution_count": 30,
   "metadata": {},
   "outputs": [
    {
     "name": "stdout",
     "output_type": "stream",
     "text": [
      "1\n",
      "2\n",
      "3\n",
      "4\n",
      "5\n",
      "6\n",
      "7\n",
      "8\n",
      "9\n"
     ]
    }
   ],
   "source": [
    "for i in range(1,10):\n",
    "    print(i)"
   ]
  },
  {
   "cell_type": "code",
   "execution_count": null,
   "metadata": {},
   "outputs": [],
   "source": [
    "#%%\n",
    "# nk = list(map(int,input().split()))\n",
    "nk = [4,9]\n",
    "\n",
    "#%%\n",
    "N,K = nk[0], nk[1]\n",
    "Kbin = bin(K)[2:] # srt\n",
    "len_Kbin = len(Kbin)\n",
    "\n",
    "\n",
    "#%%\n",
    "# li = list(map(int,input().split()))\n",
    "Xs = [7, 4, 0, 3]\n",
    "Xs_bin = [int(bin(X)[2:]) for X in Xs if X <=K]# int\n",
    "Xs_bin_sum = sum(Xs_bin)\n",
    "# Xs_bin_sum\n",
    "\n",
    "#%%\n",
    "flip = ''\n",
    "for i in range(len_Kbin-1):\n",
    "    if int(str(Xs_bin_sum)[-(i+1)]) < N/2:\n",
    "        flip = '1' + flip\n",
    "    else:\n",
    "        flip = '0' + flip\n",
    "# flip\n",
    "\n",
    "\n",
    "#%%"
   ]
  },
  {
   "cell_type": "code",
   "execution_count": 40,
   "metadata": {},
   "outputs": [
    {
     "ename": "SyntaxError",
     "evalue": "invalid syntax (<ipython-input-40-9474dcde85da>, line 14)",
     "output_type": "error",
     "traceback": [
      "\u001b[0;36m  File \u001b[0;32m\"<ipython-input-40-9474dcde85da>\"\u001b[0;36m, line \u001b[0;32m14\u001b[0m\n\u001b[0;31m    Xs_bin_sum_padding =\u001b[0m\n\u001b[0m                         ^\u001b[0m\n\u001b[0;31mSyntaxError\u001b[0m\u001b[0;31m:\u001b[0m invalid syntax\n"
     ]
    }
   ],
   "source": [
    "nk = [4,9]\n",
    "\n",
    "#%%\n",
    "N,K = nk[0], nk[1]\n",
    "Kbin = bin(K)[2:] # srt\n",
    "len_Kbin = len(Kbin) #2^(len_Kbin-1)まで Kけた必要\n",
    "\n",
    "\n",
    "#%%\n",
    "# li = list(map(int,input().split()))\n",
    "Xs = [7, 4, 0, 3]\n",
    "Xs_bin = [int(bin(X)[2:]) for X in Xs if X <=K]# int\n",
    "Xs_bin_sum = sum(Xs_bin)\n",
    "Xs_bin_sum_padding = \n",
    "print(Xs_bin_sum)"
   ]
  },
  {
   "cell_type": "code",
   "execution_count": 41,
   "metadata": {},
   "outputs": [],
   "source": [
    "Xs_bin?"
   ]
  },
  {
   "cell_type": "code",
   "execution_count": 39,
   "metadata": {},
   "outputs": [
    {
     "name": "stdout",
     "output_type": "stream",
     "text": [
      "hi000\n"
     ]
    }
   ],
   "source": [
    "li = \"hi\"\n",
    "li = li+str(0)*3\n",
    "print(li)"
   ]
  },
  {
   "cell_type": "code",
   "execution_count": null,
   "metadata": {},
   "outputs": [],
   "source": [
    "#nk = list(map(int,input().split()))\n",
    "nk = [4,9]\n",
    "\n",
    "#%%\n",
    "N,K = nk[0], nk[1]\n",
    "Kbin = bin(K)[2:] # str\n",
    "len_Kbin = len(Kbin)\n",
    "\n",
    "\n",
    "#%%\n",
    "#Xs = list(map(int,input().split()))\n",
    "Xs = [7, 4, 0, 3]\n",
    "Xs_bin = [int(bin(X)[2:]) for X in Xs if X <=K]# int\n",
    "Xs_bin_sum = sum(Xs_bin)\n",
    "# Xs_bin_sum\n",
    "\n",
    "#%%\n",
    "ans1 = ''\n",
    "for i in range(len_Kbin-1):\n",
    "    if int(str(Xs_bin_sum)[-(i+1)]) < N/2:\n",
    "        ans1 = '1' + flip\n",
    "    else:\n",
    "        ans1 = '0' + flip\n",
    "\n",
    "best = '1' + ans1\n",
    "\n",
    "ans2 = ''\n",
    "for i in range(len_Kbin):\n",
    "    if best[i] == Kbin[i]:\n",
    "        ans2 = '1' + ans2\n",
    "    else:\n",
    "        ans2 = '0' + ans2\n",
    "\n",
    "ans = max(int(ans1,2),int(ans2,2))\n",
    "print(ans)\n",
    "\n",
    "\n",
    "\n",
    "\n",
    "#%%\n"
   ]
  },
  {
   "cell_type": "markdown",
   "metadata": {},
   "source": [
    "3//2"
   ]
  },
  {
   "cell_type": "code",
   "execution_count": 43,
   "metadata": {},
   "outputs": [
    {
     "data": {
      "text/plain": [
       "4"
      ]
     },
     "execution_count": 43,
     "metadata": {},
     "output_type": "execute_result"
    }
   ],
   "source": [
    "9//2"
   ]
  },
  {
   "cell_type": "code",
   "execution_count": 46,
   "metadata": {},
   "outputs": [
    {
     "data": {
      "text/plain": [
       "1"
      ]
     },
     "execution_count": 46,
     "metadata": {},
     "output_type": "execute_result"
    }
   ],
   "source": [
    "1&1"
   ]
  },
  {
   "cell_type": "code",
   "execution_count": 47,
   "metadata": {},
   "outputs": [
    {
     "data": {
      "text/plain": [
       "0"
      ]
     },
     "execution_count": 47,
     "metadata": {},
     "output_type": "execute_result"
    }
   ],
   "source": [
    "1&2"
   ]
  },
  {
   "cell_type": "code",
   "execution_count": 48,
   "metadata": {},
   "outputs": [
    {
     "data": {
      "text/plain": [
       "2"
      ]
     },
     "execution_count": 48,
     "metadata": {},
     "output_type": "execute_result"
    }
   ],
   "source": [
    "3&2"
   ]
  },
  {
   "cell_type": "code",
   "execution_count": 49,
   "metadata": {},
   "outputs": [
    {
     "data": {
      "text/plain": [
       "5"
      ]
     },
     "execution_count": 49,
     "metadata": {},
     "output_type": "execute_result"
    }
   ],
   "source": [
    "7&5"
   ]
  },
  {
   "cell_type": "code",
   "execution_count": 50,
   "metadata": {},
   "outputs": [
    {
     "data": {
      "text/plain": [
       "2"
      ]
     },
     "execution_count": 50,
     "metadata": {},
     "output_type": "execute_result"
    }
   ],
   "source": [
    "10&7"
   ]
  },
  {
   "cell_type": "code",
   "execution_count": 52,
   "metadata": {},
   "outputs": [
    {
     "name": "stdout",
     "output_type": "stream",
     "text": [
      "7 9\n",
      "11 11 11 3 0 0 0\n",
      "44\n"
     ]
    }
   ],
   "source": [
    "n,k=map(int,input().split())\n",
    "a=list(map(int,input().split()))\n",
    "t,ans=2**40,0\n",
    "while t:\n",
    "\tc=sum([(a[i]&t)//t for i in range(n)])\n",
    "\tif k<t or c*2>=n:\n",
    "\t\tans+=t*c\n",
    "\telse:\n",
    "\t\tans+=t*(n-c)\n",
    "\t\tk -= t\n",
    "\tt //= 2\n",
    "print(ans)"
   ]
  },
  {
   "cell_type": "code",
   "execution_count": 53,
   "metadata": {},
   "outputs": [
    {
     "name": "stdout",
     "output_type": "stream",
     "text": [
      "7 9\n",
      "11 11 11 3 0 0 0\n",
      "64\n"
     ]
    }
   ],
   "source": [
    "N,K =[int(i)for i in input().split()]\n",
    "\n",
    "Knum =[0]*40\n",
    "K2 = 0 #桁数\n",
    "\n",
    "while K != 0:\n",
    "    Knum[K2] = K%2\n",
    "    K = K//2\n",
    "    K2 += 1\n",
    "K2 -= 1\n",
    "if K2 == -1:\n",
    "    K2 = 0\n",
    "\n",
    "num =[0]*40\n",
    "for i in input().split():\n",
    "    A =int(i)\n",
    "    m = 0\n",
    "    while A!=0:\n",
    "        if A%2==1:\n",
    "            num[m] += 1\n",
    "        A = A//2\n",
    "        m += 1\n",
    "\n",
    "fmax =[0]*40\n",
    "for i,j in enumerate(num):\n",
    "    fmax[i] = fmax[i-1] +(2**i)*max(j,N-j)\n",
    "\n",
    "ans =[]\n",
    "karians = 0\n",
    "for i in range(40):\n",
    "    j =39 - i\n",
    "    if Knum[j] == 0:\n",
    "        karians += (2**j)*num[j]\n",
    "    elif j !=0:\n",
    "        ans.append(karians+(2**j)*num[j]+fmax[j-1])\n",
    "        karians += (2**j)*(N-num[j])\n",
    "    else:\n",
    "        ans.append(karians+(2**j)*num[j])\n",
    "        karians += (2**j)*(N-num[j])\n",
    "ans.append(karians)\n",
    "print(max(ans))\n"
   ]
  },
  {
   "cell_type": "code",
   "execution_count": 6,
   "metadata": {},
   "outputs": [
    {
     "name": "stdout",
     "output_type": "stream",
     "text": [
      "56\n"
     ]
    }
   ],
   "source": [
    "# 一番早かった人\n",
    "import sys\n",
    "\n",
    "stdin = sys.stdin\n",
    "\n",
    "ni = lambda: int(ns())\n",
    "na = lambda: list(map(int, stdin.readline().split()))\n",
    "ns = lambda: stdin.readline().rstrip()  # ignore trailing spaces\n",
    "\n",
    "# n, k = na()\n",
    "# a = na()\n",
    "\n",
    "n, k = 7, 9\n",
    "# a = [11, 11, 11, 3, 0, 0, 0]\n",
    "a = [11, 11, 11, 3, 4, 4, 4]\n",
    "    \n",
    "ans = 0\n",
    "has = []\n",
    "for i in range(45):\n",
    "    s = 0\n",
    "    for v in a:\n",
    "        s += v>>i&1\n",
    "    has.append(s)\n",
    "\n",
    "und = []\n",
    "for i in range(45):\n",
    "    und.append(max(n-has[i], has[i])<<i)\n",
    "\n",
    "for i in range(44):\n",
    "    und[i+1] += und[i]\n",
    "\n",
    "k += 1\n",
    "top = 0\n",
    "ans = 0\n",
    "for i in range(44,-1,-1):\n",
    "    if k>>i&1:\n",
    "        # print(i, top, has[i]<<i, und[i-1])\n",
    "        ans = max(ans, top + (has[i]<<i) + (und[i-1] if i-1 >= 0 else 0))\n",
    "    top += n-has[i]<<i if k>>i&1 else has[i]<<i\n",
    "\n",
    "print(ans)"
   ]
  },
  {
   "cell_type": "code",
   "execution_count": 7,
   "metadata": {},
   "outputs": [],
   "source": [
    "int?"
   ]
  },
  {
   "cell_type": "code",
   "execution_count": 31,
   "metadata": {},
   "outputs": [
    {
     "name": "stdout",
     "output_type": "stream",
     "text": [
      "64\n",
      "56\n"
     ]
    }
   ],
   "source": [
    "l1 = [3,7,4,4]\n",
    "l2 = [4,3,4,4]\n",
    "lr1 = l1[::-1]\n",
    "lr2 = l2[::-1]\n",
    "sum1 = 0\n",
    "sum2 = 0\n",
    "for i in range(len(l1)):\n",
    "    sum1 += lr1[i]*2**i\n",
    "    sum2 += lr2[i]*2**i\n",
    "print(sum1)\n",
    "print(sum2)"
   ]
  },
  {
   "cell_type": "code",
   "execution_count": 25,
   "metadata": {},
   "outputs": [
    {
     "name": "stdout",
     "output_type": "stream",
     "text": [
      "4\n",
      "4\n",
      "7\n",
      "3\n"
     ]
    }
   ],
   "source": [
    "#様々なlistの逆順について\n",
    "list_test = [3,7,4,4]\n",
    "\n",
    "# generatorを作る reversed(list)\n",
    "for i in reversed(list_test):\n",
    "    print(i)"
   ]
  },
  {
   "cell_type": "code",
   "execution_count": 27,
   "metadata": {},
   "outputs": [
    {
     "name": "stdout",
     "output_type": "stream",
     "text": [
      "4\n",
      "4\n",
      "7\n",
      "3\n"
     ]
    }
   ],
   "source": [
    "#スライスで逆向きに並び替え\n",
    "list_test = [3,7,4,4]\n",
    "lr = list_test[::-1]\n",
    "for i in range(len(list_test)):\n",
    "    print(lr[i])"
   ]
  },
  {
   "cell_type": "code",
   "execution_count": 28,
   "metadata": {},
   "outputs": [
    {
     "name": "stdout",
     "output_type": "stream",
     "text": [
      "4\n",
      "4\n",
      "7\n",
      "3\n"
     ]
    }
   ],
   "source": [
    "#リストそのものを逆向きにしちゃう\n",
    "list_test = [3,7,4,4]\n",
    "list_test.reverse()\n",
    "for i in list_test:\n",
    "    print(i)"
   ]
  },
  {
   "cell_type": "code",
   "execution_count": null,
   "metadata": {},
   "outputs": [],
   "source": []
  }
 ],
 "metadata": {
  "kernelspec": {
   "display_name": "Python 3",
   "language": "python",
   "name": "python3"
  },
  "language_info": {
   "codemirror_mode": {
    "name": "ipython",
    "version": 3
   },
   "file_extension": ".py",
   "mimetype": "text/x-python",
   "name": "python",
   "nbconvert_exporter": "python",
   "pygments_lexer": "ipython3",
   "version": "3.6.8"
  }
 },
 "nbformat": 4,
 "nbformat_minor": 2
}
