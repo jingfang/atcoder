{
 "cells": [
  {
   "cell_type": "markdown",
   "metadata": {},
   "source": [
    "Atcoder grand contest 029 問題A"
   ]
  },
  {
   "cell_type": "markdown",
   "metadata": {},
   "source": [
    "自分の解答"
   ]
  },
  {
   "cell_type": "code",
   "execution_count": 5,
   "metadata": {},
   "outputs": [
    {
     "name": "stdout",
     "output_type": "stream",
     "text": [
      "BWWB\n"
     ]
    },
    {
     "data": {
      "text/plain": [
       "[1, 2]"
      ]
     },
     "execution_count": 5,
     "metadata": {},
     "output_type": "execute_result"
    }
   ],
   "source": [
    "import numpy as np\n",
    "def find(s, ch):\n",
    "    return [i for i, ltr in enumerate(s) if ltr == ch]\n",
    "\n",
    "S=input()\n",
    "find(S,'W')"
   ]
  },
  {
   "cell_type": "code",
   "execution_count": 6,
   "metadata": {},
   "outputs": [
    {
     "data": {
      "text/plain": [
       "[0, 1, 2]"
      ]
     },
     "execution_count": 6,
     "metadata": {},
     "output_type": "execute_result"
    }
   ],
   "source": [
    "def find(s, ch):\n",
    "    return [i for i, ltr in enumerate(s) if ltr == ch]\n",
    "find(\"ooottat\", \"o\")"
   ]
  },
  {
   "cell_type": "code",
   "execution_count": 13,
   "metadata": {},
   "outputs": [
    {
     "name": "stdout",
     "output_type": "stream",
     "text": [
      "BWW\n",
      "[1, 2] [0 1]\n",
      "2\n"
     ]
    }
   ],
   "source": [
    "import numpy as np\n",
    "def find(s, ch):\n",
    "    return [i for i, ltr in enumerate(s) if ltr == ch]\n",
    "\n",
    "S=input()\n",
    "A=find(S,'W')\n",
    "B=np.arange(len(A))\n",
    "print(A,B)\n",
    "print(np.sum(A-B))"
   ]
  },
  {
   "cell_type": "markdown",
   "metadata": {},
   "source": [
    "問題B"
   ]
  },
  {
   "cell_type": "code",
   "execution_count": 32,
   "metadata": {},
   "outputs": [
    {
     "name": "stdout",
     "output_type": "stream",
     "text": [
      "5\n",
      "1 2 4 4 5\n",
      "1\n"
     ]
    }
   ],
   "source": [
    "#提出 #3807057\n",
    "from collections import Counter\n",
    " \n",
    "n = int(input())\n",
    "nums = sorted(list(map(int, input().split())), reverse=True)\n",
    "num_map = Counter(nums)\n",
    " \n",
    "answer = 0\n",
    "for num in nums:\n",
    "    pair = (1 << (num.bit_length())) - num\n",
    " \n",
    "    if num_map[num] > 0 and num_map[pair]>0:\n",
    "        if num == pair and num_map[num] > 1:\n",
    "            answer += 1\n",
    "            num_map[num] -= 2\n",
    "        if num > pair:\n",
    "            answer += 1\n",
    "            num_map[num] -= 1\n",
    "            num_map[pair] -= 1\n",
    "print(answer)"
   ]
  },
  {
   "cell_type": "markdown",
   "metadata": {},
   "source": [
    "解説:\n",
    "<< : bitwise left shift\n",
    ">>> bin(0b1111 << 1)\n",
    "'0b11110'\n",
    ">>> bin(0b1111 << 2)\n",
    "'0b111100'\n",
    ">>> bin(0b1111 << 3)\n",
    "'0b1111000'\n",
    ">>> bin(0b1111 << 4)\n",
    "'0b11110000'\n",
    "\n",
    "最大のを取って来てるからペアは常に一意\n",
    "\n",
    ">>> sorted([5, 2, 3, 1, 4])\n",
    "[1, 2, 3, 4, 5]\n",
    "デフォは昇順、降順にしたければreverse=True\n",
    "\n"
   ]
  },
  {
   "cell_type": "code",
   "execution_count": 25,
   "metadata": {},
   "outputs": [
    {
     "name": "stdout",
     "output_type": "stream",
     "text": [
      "<map object at 0x10ba72ba8>\n",
      "[0, 1, 4, 9, 16, 25, 36, 49, 64, 81]\n",
      "Help on map object:\n",
      "\n",
      "class map(object)\n",
      " |  map(func, *iterables) --> map object\n",
      " |  \n",
      " |  Make an iterator that computes the function using arguments from\n",
      " |  each of the iterables.  Stops when the shortest iterable is exhausted.\n",
      " |  \n",
      " |  Methods defined here:\n",
      " |  \n",
      " |  __getattribute__(self, name, /)\n",
      " |      Return getattr(self, name).\n",
      " |  \n",
      " |  __iter__(self, /)\n",
      " |      Implement iter(self).\n",
      " |  \n",
      " |  __new__(*args, **kwargs) from builtins.type\n",
      " |      Create and return a new object.  See help(type) for accurate signature.\n",
      " |  \n",
      " |  __next__(self, /)\n",
      " |      Implement next(self).\n",
      " |  \n",
      " |  __reduce__(...)\n",
      " |      Return state information for pickling.\n",
      "\n",
      "None\n"
     ]
    }
   ],
   "source": [
    "original_list = list(range(10)) # [0, 1, 2, 3, 4, 5, 6, 7, 8, 9]\n",
    "mapped_list = map(lambda x: x**2, original_list)\n",
    " \n",
    "print(mapped_list)\n",
    "print(list(mapped_list))\n",
    "print(help(mapped_list))\n",
    "# 参考　https://www.sejuku.net/blog/24759#map"
   ]
  },
  {
   "cell_type": "code",
   "execution_count": 43,
   "metadata": {},
   "outputs": [
    {
     "name": "stdout",
     "output_type": "stream",
     "text": [
      "5\n",
      "1 2 4 4 5\n",
      "5 3\n",
      "Counter({4: 2, 1: 1, 2: 1, 5: 1}) 0\n",
      "4 4\n",
      "=\n",
      "Counter({1: 1, 2: 1, 5: 1, 4: 0}) 1\n",
      "4 4\n",
      "Counter({1: 1, 2: 1, 5: 1, 4: 0}) 1\n",
      "2 2\n",
      "n>p\n",
      "True\n",
      "Counter({1: 1, 5: 1, 4: 0, 2: -1}) 2\n",
      "1 1\n",
      "n>p\n",
      "True\n",
      "Counter({5: 1, 4: 0, 1: -1, 2: -1}) 3\n",
      "3\n"
     ]
    }
   ],
   "source": [
    "from collections import Counter \n",
    "\n",
    "n=int(input())\n",
    "nums=sorted(map(int,input().split()),reverse=True)\n",
    "num_of_nums = Counter(nums)\n",
    "\n",
    "\n",
    "pairing = 0\n",
    "#print(num_of_nums)\n",
    "for num in nums:\n",
    "    pair = ( 1 << (num.bit_length()) ) - num\n",
    "    print(num,pair)\n",
    "    if num == pair and num_of_nums[num] > 1:\n",
    "        num_of_nums[num] -=2\n",
    "        pairing += 1\n",
    "        print('=')\n",
    "    elif num_of_nums[pair] > 0:\n",
    "        num_of_nums[num] -=1\n",
    "        num_of_nums[pair] -=1        \n",
    "        pairing += 1 \n",
    "        print('n>p')\n",
    "        print(num == pair)\n",
    "        \n",
    "\n",
    "\n",
    "    print(num_of_nums,pairing)\n",
    "print(pairing)"
   ]
  },
  {
   "cell_type": "markdown",
   "metadata": {},
   "source": [
    "期待して挙動と違う elif = else if なのになぜ n==pの時に二番めに分岐されてるんだろうと思ったら\n",
    "自分が if を　and　で繋げてるだけだった\n",
    "期待した挙動っぽくしたいなら\n",
    "if num == pair:\n",
    "    if list[num]>1:\n",
    "elif list[pair]>0:\n",
    "としないといけない？\n",
    "でも例えば4が3個あると"
   ]
  },
  {
   "cell_type": "code",
   "execution_count": 40,
   "metadata": {},
   "outputs": [
    {
     "name": "stdout",
     "output_type": "stream",
     "text": [
      "5 \n",
      "1 2 4 4 5\n",
      "5 3\n",
      "Counter({4: 2, 1: 1, 2: 1, 5: 1}) 0\n",
      "4 4\n",
      "=\n",
      "Counter({1: 1, 2: 1, 5: 1, 4: 0}) 1\n",
      "4 4\n",
      "Counter({1: 1, 2: 1, 5: 1, 4: 0}) 1\n",
      "2 2\n",
      "Counter({1: 1, 2: 1, 5: 1, 4: 0}) 1\n",
      "1 1\n",
      "Counter({1: 1, 2: 1, 5: 1, 4: 0}) 1\n",
      "1\n"
     ]
    }
   ],
   "source": [
    "from collections import Counter \n",
    "\n",
    "n=int(input())\n",
    "nums=sorted(map(int,input().split()),reverse=True)\n",
    "num_of_nums = Counter(nums)\n",
    "\n",
    "\n",
    "pairing = 0\n",
    "#print(num_of_nums)\n",
    "for num in nums:\n",
    "    pair = ( 1 << (num.bit_length()) ) - num\n",
    "    print(num,pair)\n",
    "    if num == pair and num_of_nums[num] > 1:\n",
    "        num_of_nums[num] -=2\n",
    "        pairing += 1\n",
    "        print('=')\n",
    "    elif num > pair and num_of_nums[pair] > 0:\n",
    "        num_of_nums[num] -=1\n",
    "        num_of_nums[pair] -=1        \n",
    "        pairing += 1 \n",
    "        print('n>p')\n",
    "        print(num == pair)\n",
    "        \n",
    "\n",
    "\n",
    "    print(num_of_nums,pairing)\n",
    "print(pairing)"
   ]
  },
  {
   "cell_type": "code",
   "execution_count": 42,
   "metadata": {},
   "outputs": [
    {
     "name": "stdout",
     "output_type": "stream",
     "text": [
      "0\n",
      "1\n",
      "2\n",
      "3\n",
      "4\n",
      "5\n",
      "6\n",
      "7\n",
      "8\n",
      "9\n"
     ]
    }
   ],
   "source": [
    "for i in range(10):\n",
    "    if i < 7:\n",
    "        print(i)\n",
    "    elif i > 3:\n",
    "        print(i)"
   ]
  },
  {
   "cell_type": "code",
   "execution_count": null,
   "metadata": {
    "collapsed": true
   },
   "outputs": [],
   "source": []
  }
 ],
 "metadata": {
  "kernelspec": {
   "display_name": "Python 3",
   "language": "python",
   "name": "python3"
  },
  "language_info": {
   "codemirror_mode": {
    "name": "ipython",
    "version": 3
   },
   "file_extension": ".py",
   "mimetype": "text/x-python",
   "name": "python",
   "nbconvert_exporter": "python",
   "pygments_lexer": "ipython3",
   "version": "3.4.5"
  }
 },
 "nbformat": 4,
 "nbformat_minor": 2
}
